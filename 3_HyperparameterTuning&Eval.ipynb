{
  "nbformat": 4,
  "nbformat_minor": 0,
  "metadata": {
    "colab": {
      "provenance": []
    },
    "kernelspec": {
      "name": "python3",
      "display_name": "Python 3"
    },
    "language_info": {
      "name": "python"
    }
  },
  "cells": [
    {
      "cell_type": "markdown",
      "source": [
        "# Install Data & Packages"
      ],
      "metadata": {
        "id": "bGCwcyloiG1r"
      }
    },
    {
      "cell_type": "code",
      "source": [
        "!pip install statsmodels --quiet"
      ],
      "metadata": {
        "id": "G0lh7gStijqV"
      },
      "execution_count": 2,
      "outputs": []
    },
    {
      "cell_type": "code",
      "execution_count": 3,
      "metadata": {
        "id": "AB8xj1k2hvLW"
      },
      "outputs": [],
      "source": [
        "import numpy as np\n",
        "import pandas as pd\n",
        "import json\n",
        "import matplotlib.pyplot as plt\n",
        "from statsmodels.api import OLS\n",
        "from sklearn.preprocessing import StandardScaler\n",
        "import os\n",
        "import statsmodels as sm\n",
        "from mlxtend.feature_selection import SequentialFeatureSelector as SFS\n",
        "from mlxtend.feature_selection import ExhaustiveFeatureSelector as EFS\n",
        "from numpy.linalg import inv, eig\n",
        "from sklearn.base import BaseEstimator\n",
        "from sklearn.linear_model import LinearRegression, Ridge, Lasso, ElasticNet\n",
        "from sklearn.metrics import make_scorer, mean_squared_error\n",
        "from sklearn.model_selection import train_test_split, GridSearchCV\n",
        "import statsmodels.api as sm\n",
        "from statsmodels.tools.tools import add_constant"
      ]
    },
    {
      "cell_type": "markdown",
      "source": [
        "Import Data."
      ],
      "metadata": {
        "id": "TTtrQKGTimUB"
      }
    },
    {
      "cell_type": "code",
      "source": [
        "path_data = '/content/data.csv' #edit path as necessary\n",
        "\n",
        "# Check if files exist before loading\n",
        "if os.path.exists(path_data):\n",
        "    data = pd.read_csv(path_data)\n",
        "    print(\"Data loaded successfully.\")\n",
        "else:\n",
        "    print(\"Error: One or both files not found. Check the file paths.\")\n",
        "\n",
        "y = data.loc[:,'ViolentCrimesPerPop']\n",
        "X = data.loc[:, data.columns != 'ViolentCrimesPerPop']"
      ],
      "metadata": {
        "colab": {
          "base_uri": "https://localhost:8080/"
        },
        "id": "ThoH3IVMimG4",
        "outputId": "1b3ffa9a-b972-4b20-e231-59423b484cd0"
      },
      "execution_count": 4,
      "outputs": [
        {
          "output_type": "stream",
          "name": "stdout",
          "text": [
            "Data loaded successfully.\n"
          ]
        }
      ]
    },
    {
      "cell_type": "markdown",
      "source": [
        "Import Significant Features Data from notebook 1. (So we do not have to run best subsets and SFS again)."
      ],
      "metadata": {
        "id": "gVCjbMSWZJFv"
      }
    },
    {
      "cell_type": "code",
      "source": [
        "file_path = \"/content/SignificantFeaturesData.json\" #adjust as needed\n",
        "\n",
        "if os.path.exists(file_path):\n",
        "    with open(file_path, \"r\") as f:\n",
        "        significantfeatures_dict = json.load(f)\n",
        "    print(\"JSON file loaded successfully.\")\n",
        "else:\n",
        "    # Default data if file isn't found\n",
        "    significantfeatures_dict = {\"default_key\": [\"default_value1\", \"default_value2\"]}\n",
        "    print(\"File not found. Loaded default data.\")"
      ],
      "metadata": {
        "colab": {
          "base_uri": "https://localhost:8080/"
        },
        "id": "-A9zuKtKZG8G",
        "outputId": "dcc9c63b-6478-420d-fe4e-004ba0aaf447"
      },
      "execution_count": 5,
      "outputs": [
        {
          "output_type": "stream",
          "name": "stdout",
          "text": [
            "JSON file loaded successfully.\n"
          ]
        }
      ]
    },
    {
      "cell_type": "markdown",
      "source": [
        "# Split and Store Data"
      ],
      "metadata": {
        "id": "4KmzsUIY5nzY"
      }
    },
    {
      "cell_type": "markdown",
      "source": [
        "We want to split the data into 60% training, 20% validation, and 20% test set.\n",
        " We will then use the data as follows:\n",
        "\n",
        "Training $\\rightarrow$ fit the model\n",
        "\n",
        "Validation $\\rightarrow$ hyperparameter tuning (if needed, e.g. LASSO)\n",
        "\n",
        "Test set $\\rightarrow$ evaluate MSE using model we fit with the training data"
      ],
      "metadata": {
        "id": "YqkHqZfM2_VQ"
      }
    },
    {
      "cell_type": "code",
      "source": [
        "data_splits = {}\n",
        "\n",
        "M = 10 #number of iterations\n",
        "for i in range(M):\n",
        "    X_train_val, X_test, y_train_val, y_test = train_test_split(X, y, test_size=0.2, random_state=np.random.randint(100))\n",
        "    X_train, X_val, y_train, y_val = train_test_split(X_train_val, y_train_val, test_size=0.25, random_state=np.random.randint(100))\n",
        "\n",
        "    data_splits[f\"data{i+1}\"] = {\n",
        "        \"X_train\": X_train,\n",
        "        \"X_val\": X_val,\n",
        "        \"X_test\": X_test,\n",
        "        \"y_train\": y_train,\n",
        "        \"y_val\": y_val,\n",
        "        \"y_test\": y_test\n",
        "    }"
      ],
      "metadata": {
        "id": "R_pSLt4E33Sv"
      },
      "execution_count": 6,
      "outputs": []
    },
    {
      "cell_type": "markdown",
      "source": [
        "It is not necessarily a fair comparison of MSE between methods that have a validation set and those that dont as the methods that have a validation set use more of the data.  However, for the simplicity of the analysis, assume that this difference is negligible, i.e., 'wasting' the validation data for methods that do not require hyper parameter tuning is not impactful on the outcome of the analysis."
      ],
      "metadata": {
        "id": "4IFZcR6b7gLW"
      }
    },
    {
      "cell_type": "markdown",
      "source": [
        "Store all MSE below."
      ],
      "metadata": {
        "id": "mHuTDigO8F5M"
      }
    },
    {
      "cell_type": "code",
      "source": [
        "methods_mse = {'Least Squares':[],\n",
        "               'Best Subsets':[],\n",
        "               'SFS':[],\n",
        "               'LASSO':[],\n",
        "               'Ridge':[],\n",
        "               'Elastic Net':[]\n",
        "}"
      ],
      "metadata": {
        "id": "FbtxuO9r8Fkz"
      },
      "execution_count": 7,
      "outputs": []
    },
    {
      "cell_type": "markdown",
      "source": [
        "# Train, Validation, Test"
      ],
      "metadata": {
        "id": "oACGedQSiKaI"
      }
    },
    {
      "cell_type": "markdown",
      "source": [
        "Now we calculate MSE for each method on datasets 1,2,...,10."
      ],
      "metadata": {
        "id": "l3xmDIeHigBG"
      }
    },
    {
      "cell_type": "markdown",
      "source": [
        "## Least Squares"
      ],
      "metadata": {
        "id": "gv13kdl95pwA"
      }
    },
    {
      "cell_type": "code",
      "source": [
        "alldata = list(data_splits.keys())\n",
        "ls_mse = {data_i:0 for data_i in alldata}\n",
        "\n",
        "for data_i in alldata:\n",
        "\n",
        "  X = data_splits[data_i]['X_train']\n",
        "  X = sm.add_constant(X) #add constant\n",
        "\n",
        "  y = data_splits[data_i]['y_train']\n",
        "\n",
        "  lsmodel = OLS(y,X).fit()\n",
        "  y_pred = lsmodel.predict(X)\n",
        "  mse = mean_squared_error(y, y_pred)\n",
        "  ls_mse[data_i] = mse"
      ],
      "metadata": {
        "id": "LrQJ7hmF5rhj"
      },
      "execution_count": 8,
      "outputs": []
    },
    {
      "cell_type": "code",
      "source": [
        "ls_mse"
      ],
      "metadata": {
        "colab": {
          "base_uri": "https://localhost:8080/"
        },
        "id": "RkVmgAlx7KsS",
        "outputId": "dd7c2006-ea58-4bd9-ae20-29cc42ac106e"
      },
      "execution_count": 9,
      "outputs": [
        {
          "output_type": "execute_result",
          "data": {
            "text/plain": [
              "{'data1': 0.015602336260244066,\n",
              " 'data2': 0.0158641606355822,\n",
              " 'data3': 0.017188819382675656,\n",
              " 'data4': 0.014729640049464816,\n",
              " 'data5': 0.015489741462072168,\n",
              " 'data6': 0.014339495235820215,\n",
              " 'data7': 0.01583017758992238,\n",
              " 'data8': 0.01639229693048463,\n",
              " 'data9': 0.01546021104819502,\n",
              " 'data10': 0.015200728061348598}"
            ]
          },
          "metadata": {},
          "execution_count": 9
        }
      ]
    },
    {
      "cell_type": "markdown",
      "source": [
        "Add this to the dictionary storing the MSE for all methods."
      ],
      "metadata": {
        "id": "RqZA-CCP8vS1"
      }
    },
    {
      "cell_type": "code",
      "source": [
        "methods_mse['Least Squares'] = ls_mse"
      ],
      "metadata": {
        "id": "ZVV1C1YU8zuh"
      },
      "execution_count": 10,
      "outputs": []
    },
    {
      "cell_type": "markdown",
      "source": [
        "## Best Subsets"
      ],
      "metadata": {
        "id": "BexDDO1r86W7"
      }
    },
    {
      "cell_type": "markdown",
      "source": [
        "We have already run this in notebook 1.  Import these variables and fit a LS model to the subset of variables that were deemed significant."
      ],
      "metadata": {
        "id": "2n4Ki0yUbUPG"
      }
    },
    {
      "cell_type": "code",
      "source": [
        "significantfeaturesBestSubsets = significantfeatures_dict['Best Subsets']\n",
        "print(significantfeaturesBestSubsets)"
      ],
      "metadata": {
        "colab": {
          "base_uri": "https://localhost:8080/"
        },
        "id": "YQlFzBWMbh0Z",
        "outputId": "52bb6ae4-9613-46b2-d3c5-f52813cfd969"
      },
      "execution_count": 11,
      "outputs": [
        {
          "output_type": "stream",
          "name": "stdout",
          "text": [
            "['PctVacantBoarded', 'PctWOFullPlumb', 'LemasPctOfficDrugUn', 'NumStreet', 'MedRentPctHousInc', 'PctHousOccup', 'PopDens', 'blackPerCap']\n"
          ]
        }
      ]
    },
    {
      "cell_type": "code",
      "source": [
        "BestSubests_mse = {data_i:0 for data_i in alldata}\n",
        "\n",
        "for data_i in alldata:\n",
        "\n",
        "  X = data_splits[data_i]['X_train']\n",
        "  X = X[significantfeaturesBestSubsets] #Drop all unneccessary features\n",
        "  X = sm.add_constant(X) #add constant\n",
        "\n",
        "  y = data_splits[data_i]['y_train']\n",
        "\n",
        "  SFS_lsmodel = OLS(y,X).fit()\n",
        "  y_pred = SFS_lsmodel.predict(X)\n",
        "  mse = mean_squared_error(y, y_pred)\n",
        "  BestSubests_mse[data_i] = mse\n",
        "\n",
        "methods_mse['Best Subsets'] = BestSubests_mse"
      ],
      "metadata": {
        "id": "TbcFjgYi9JHG"
      },
      "execution_count": 12,
      "outputs": []
    },
    {
      "cell_type": "markdown",
      "source": [
        "## Sequential Feature Selection (SFS)"
      ],
      "metadata": {
        "id": "oKNtxuT0YZrt"
      }
    },
    {
      "cell_type": "markdown",
      "source": [
        "We have already run this in notebook 1.  Import significant coefficients."
      ],
      "metadata": {
        "id": "evdFZHX5ZdTG"
      }
    },
    {
      "cell_type": "code",
      "source": [
        "significantfeaturesSFS = significantfeatures_dict['SFS']\n",
        "print(significantfeaturesSFS)"
      ],
      "metadata": {
        "colab": {
          "base_uri": "https://localhost:8080/"
        },
        "id": "Yek6oRYbYiwB",
        "outputId": "0809485f-ecc7-4733-f3fa-a20cd4885829"
      },
      "execution_count": 13,
      "outputs": [
        {
          "output_type": "stream",
          "name": "stdout",
          "text": [
            "['racepctblack', 'racePctWhite', 'racePctHisp', 'agePct12t29', 'agePct16t24', 'numbUrban', 'pctUrban', 'pctWWage', 'pctWFarmSelf', 'pctWInvInc', 'pctWSocSec', 'pctWRetire', 'medFamInc', 'whitePerCap', 'indianPerCap', 'AsianPerCap', 'HispPerCap', 'PctPopUnderPov', 'PctLess9thGrade', 'PctBSorMore', 'PctEmploy', 'PctEmplManu', 'PctOccupManu', 'MalePctDivorce', 'MalePctNevMarr', 'TotalPctDiv', 'PctKids2Par', 'PctWorkMom', 'NumIlleg', 'PctIlleg', 'NumImmig', 'PctNotSpeakEnglWell', 'PctLargHouseFam', 'PersPerOccupHous', 'PersPerOwnOccHous', 'PersPerRentOccHous', 'PctPersOwnOccup', 'PctPersDenseHous', 'PctHousLess3BR', 'MedNumBR', 'HousVacant', 'PctHousOccup', 'PctVacantBoarded', 'PctVacMore6Mos', 'RentLowQ', 'RentHighQ', 'MedRent', 'MedRentPctHousInc', 'MedOwnCostPctInc', 'MedOwnCostPctIncNoMtg', 'NumInShelters', 'NumStreet', 'PctForeignBorn', 'PctUsePubTrans', 'LemasPctOfficDrugUn', 'OtherPerCap']\n"
          ]
        }
      ]
    },
    {
      "cell_type": "code",
      "source": [
        "SFS_mse = {data_i:0 for data_i in alldata}\n",
        "\n",
        "for data_i in alldata:\n",
        "\n",
        "  X = data_splits[data_i]['X_train']\n",
        "  X = X[significantfeaturesSFS] #Drop all unneccessary features\n",
        "  X = sm.add_constant(X) #add constant\n",
        "\n",
        "  y = data_splits[data_i]['y_train']\n",
        "\n",
        "  SFS_lsmodel = OLS(y,X).fit()\n",
        "  y_pred = SFS_lsmodel.predict(X)\n",
        "  mse = mean_squared_error(y, y_pred)\n",
        "  SFS_mse[data_i] = mse\n",
        "\n",
        "methods_mse['SFS'] = SFS_mse"
      ],
      "metadata": {
        "id": "NbqFkZ03aIZN"
      },
      "execution_count": 14,
      "outputs": []
    },
    {
      "cell_type": "markdown",
      "source": [
        "## LASSO"
      ],
      "metadata": {
        "id": "YCxeFhg-9KR0"
      }
    },
    {
      "cell_type": "code",
      "source": [
        "lasso_mse2 = {data_i: {} for data_i in alldata}\n",
        "\n",
        "for data_i in alldata:\n",
        "    X_train, y_train = data_splits[data_i]['X_train'], data_splits[data_i]['y_train']\n",
        "    X_val, y_val = data_splits[data_i]['X_val'], data_splits[data_i]['y_val']\n",
        "    X_test, y_test = data_splits[data_i]['X_test'], data_splits[data_i]['y_test']\n",
        "\n",
        "    # Center and scale the data\n",
        "    scaler = StandardScaler()\n",
        "    X_train_scaled = scaler.fit_transform(X_train)\n",
        "    X_val_scaled = scaler.transform(X_val)\n",
        "    X_test_scaled = scaler.transform(X_test)\n",
        "\n",
        "    lasso_model = Lasso(max_iter=1000000)\n",
        "\n",
        "    # Hyperparameter tuning by manually testing alpha values on the validation set\n",
        "    alpha_values = np.logspace(-4, 4, 10)\n",
        "    best_alpha = None\n",
        "    best_mse = float('inf')  # Initialize with a large value to track minimum MSE\n",
        "\n",
        "    for alpha in alpha_values:\n",
        "        lasso_model.set_params(alpha=alpha)\n",
        "        lasso_model.fit(X_train_scaled, y_train)\n",
        "        y_val_pred = lasso_model.predict(X_val_scaled)\n",
        "        mse = mean_squared_error(y_val, y_val_pred)\n",
        "\n",
        "        if mse < best_mse:\n",
        "            best_mse = mse\n",
        "            best_alpha = alpha\n",
        "\n",
        "    lasso_best = Lasso(alpha=best_alpha, max_iter = 1000000)\n",
        "    lasso_best.fit(X_train_scaled, y_train)\n",
        "    y_test_pred = lasso_best.predict(X_test_scaled)\n",
        "\n",
        "    mse_test = mean_squared_error(y_test, y_test_pred)\n",
        "    lasso_mse2[data_i] = mse_test\n",
        "\n",
        "#Add data\n",
        "methods_mse['LASSO'] = {'Parameter': best_alpha, 'MSE':lasso_mse2}"
      ],
      "metadata": {
        "id": "vLuIKAYsF6_K"
      },
      "execution_count": 15,
      "outputs": []
    },
    {
      "cell_type": "markdown",
      "source": [
        "## Ridge"
      ],
      "metadata": {
        "id": "-40l20_lHWsg"
      }
    },
    {
      "cell_type": "code",
      "source": [
        "ridge_mse = {data_i: {} for data_i in alldata}\n",
        "\n",
        "for data_i in alldata:\n",
        "    X_train, y_train = data_splits[data_i]['X_train'], data_splits[data_i]['y_train']\n",
        "    X_val, y_val = data_splits[data_i]['X_val'], data_splits[data_i]['y_val']\n",
        "    X_test, y_test = data_splits[data_i]['X_test'], data_splits[data_i]['y_test']\n",
        "\n",
        "    scaler = StandardScaler()\n",
        "    X_train_scaled = scaler.fit_transform(X_train)\n",
        "    X_val_scaled = scaler.transform(X_val)\n",
        "    X_test_scaled = scaler.transform(X_test)\n",
        "\n",
        "    ridge_model = Ridge(max_iter=10000)\n",
        "\n",
        "    alpha_values = np.logspace(-4, 4, 10)\n",
        "    best_alpha = None\n",
        "    best_mse = float('inf')\n",
        "\n",
        "    for alpha in alpha_values:\n",
        "        ridge_model.set_params(alpha=alpha)\n",
        "        ridge_model.fit(X_train_scaled, y_train)\n",
        "        y_val_pred = ridge_model.predict(X_val_scaled)\n",
        "        mse = mean_squared_error(y_val, y_val_pred)\n",
        "\n",
        "        if mse < best_mse:\n",
        "            best_mse = mse\n",
        "            best_alpha = alpha\n",
        "\n",
        "    ridge_best = Ridge(alpha=best_alpha)\n",
        "    ridge_best.fit(X_train_scaled, y_train)\n",
        "\n",
        "    y_test_pred = ridge_best.predict(X_test_scaled)\n",
        "\n",
        "    mse_test = mean_squared_error(y_test, y_test_pred)\n",
        "    ridge_mse[data_i] = mse_test\n",
        "\n",
        "#Add data\n",
        "methods_mse['Ridge'] = {'Parameter': best_alpha, 'MSE':ridge_mse}"
      ],
      "metadata": {
        "id": "WbqXhvYxHX-X"
      },
      "execution_count": 16,
      "outputs": []
    },
    {
      "cell_type": "markdown",
      "source": [
        "## Elastic Net"
      ],
      "metadata": {
        "id": "ecqWDcbxMZIQ"
      }
    },
    {
      "cell_type": "code",
      "source": [
        "import warnings\n",
        "import time\n",
        "\n",
        "start = time.time()\n",
        "\n",
        "warnings.filterwarnings(\"ignore\")\n",
        "\n",
        "elasticnet_mse = {data_i: {} for data_i in alldata}\n",
        "\n",
        "for data_i in alldata:\n",
        "    X_train, y_train = data_splits[data_i]['X_train'], data_splits[data_i]['y_train']\n",
        "    X_val, y_val = data_splits[data_i]['X_val'], data_splits[data_i]['y_val']\n",
        "    X_test, y_test = data_splits[data_i]['X_test'], data_splits[data_i]['y_test']\n",
        "\n",
        "    scaler = StandardScaler()\n",
        "    X_train_scaled = scaler.fit_transform(X_train)\n",
        "    X_val_scaled = scaler.transform(X_val)\n",
        "    X_test_scaled = scaler.transform(X_test)\n",
        "\n",
        "    elasticnet_model = ElasticNet(max_iter=10000)\n",
        "\n",
        "    alpha_values = np.logspace(-4, 4, 10)\n",
        "    l1_ratio_values = np.linspace(0, 1, 10)  # L1 ratio ranges from 0 (Ridge) to 1 (Lasso)\n",
        "    best_alpha = None\n",
        "    best_l1_ratio = None\n",
        "    best_mse = float('inf')\n",
        "\n",
        "    # We loop through all combinations of penalty (alpha) and ratio between l1 and l2 to find best combination in set  {alpha_values, l1_ratio_values}\n",
        "    for alpha in alpha_values:\n",
        "        for l1_ratio in l1_ratio_values:\n",
        "            elasticnet_model.set_params(alpha=alpha, l1_ratio=l1_ratio)\n",
        "            elasticnet_model.fit(X_train_scaled, y_train)\n",
        "            y_val_pred = elasticnet_model.predict(X_val_scaled)\n",
        "            mse = mean_squared_error(y_val, y_val_pred)\n",
        "\n",
        "            if mse < best_mse:\n",
        "                best_mse = mse\n",
        "                best_alpha = alpha\n",
        "                best_l1_ratio = l1_ratio\n",
        "\n",
        "    elasticnet_best = ElasticNet(alpha=best_alpha, l1_ratio=best_l1_ratio, max_iter=10000)\n",
        "    elasticnet_best.fit(X_train_scaled, y_train)\n",
        "\n",
        "    y_test_pred = elasticnet_best.predict(X_test_scaled)\n",
        "\n",
        "    mse_test = mean_squared_error(y_test, y_test_pred)\n",
        "    elasticnet_mse[data_i] = mse_test\n",
        "\n",
        "end = time.time()\n",
        "passed = end - start\n",
        "print(f\"Execution time: {passed:.4f} seconds\")\n",
        "\n",
        "# Add data\n",
        "methods_mse['Elastic Net'] = {'Parameters (alpha, l1 ratio)': (best_alpha, best_l1_ratio), 'MSE': elasticnet_mse}"
      ],
      "metadata": {
        "colab": {
          "base_uri": "https://localhost:8080/"
        },
        "id": "lTBSZObbMa-J",
        "outputId": "7f21d065-4c41-485a-d454-c24b4fccc33e"
      },
      "execution_count": 43,
      "outputs": [
        {
          "output_type": "stream",
          "name": "stdout",
          "text": [
            "Execution time: 170.4319 seconds\n"
          ]
        }
      ]
    },
    {
      "cell_type": "markdown",
      "source": [
        "# Compare Methods (MSE)"
      ],
      "metadata": {
        "id": "NPcrc1hQgGjK"
      }
    },
    {
      "cell_type": "code",
      "source": [
        "for key, val in methods_mse.items():\n",
        "  if len(list(methods_mse[key])) == 10:\n",
        "    plt.plot(methods_mse[key].values(), label = key)\n",
        "  else:\n",
        "    plt.plot(methods_mse[key]['MSE'].values(), label = key)\n",
        "\n",
        "plt.ylabel('Mean Square Error (MSE)')\n",
        "plt.title('MSE across Methods')\n",
        "plt.legend(loc='upper right', bbox_to_anchor=(1.35, 1));\n",
        "plt.xticks(range(0, 10, 1));"
      ],
      "metadata": {
        "colab": {
          "base_uri": "https://localhost:8080/",
          "height": 452
        },
        "id": "cdg0Hw4dizn2",
        "outputId": "816e7c0a-a1f6-4b0d-a65d-efc716a9372b"
      },
      "execution_count": 84,
      "outputs": [
        {
          "output_type": "display_data",
          "data": {
            "text/plain": [
              "<Figure size 640x480 with 1 Axes>"
            ],
            "image/png": "[encoded data removed]"
          },
          "metadata": {}
        }
      ]
    },
    {
      "cell_type": "markdown",
      "source": [
        "Suprisingly, Best Subsets performed very poorly compared to the other methods.  This is likely due to the fact that in order to perform best subsets within a reasonable computational time we had to perform extensive feature filtering.  Clearly, this led to poor predictive performance in the model."
      ],
      "metadata": {
        "id": "yXj_ebAvmBQa"
      }
    },
    {
      "cell_type": "markdown",
      "source": [
        "It appears that in this regression analysis, LS and SFS performed the best according the the MSE."
      ],
      "metadata": {
        "id": "yFIn39j3megE"
      }
    }
  ]
}