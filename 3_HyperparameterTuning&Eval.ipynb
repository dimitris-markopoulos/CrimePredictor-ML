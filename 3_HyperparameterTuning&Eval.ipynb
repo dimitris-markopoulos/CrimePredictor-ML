{
  "nbformat": 4,
  "nbformat_minor": 0,
  "metadata": {
    "colab": {
      "provenance": []
    },
    "kernelspec": {
      "name": "python3",
      "display_name": "Python 3"
    },
    "language_info": {
      "name": "python"
    }
  },
  "cells": [
    {
      "cell_type": "markdown",
      "source": [
        "Work in progess."
      ],
      "metadata": {
        "id": "68GINvM8iC9U"
      }
    },
    {
      "cell_type": "markdown",
      "source": [
        "# Install Data & Packages"
      ],
      "metadata": {
        "id": "bGCwcyloiG1r"
      }
    },
    {
      "cell_type": "code",
      "source": [
        "!pip install statsmodels --quiet"
      ],
      "metadata": {
        "id": "G0lh7gStijqV"
      },
      "execution_count": null,
      "outputs": []
    },
    {
      "cell_type": "code",
      "execution_count": null,
      "metadata": {
        "id": "AB8xj1k2hvLW"
      },
      "outputs": [],
      "source": [
        "import numpy as np\n",
        "import pandas as pd\n",
        "import matplotlib.pyplot as plt\n",
        "from statsmodels.api import OLS\n",
        "from sklearn.preprocessing import StandardScaler\n",
        "import os\n",
        "import statsmodels as sm\n",
        "from mlxtend.feature_selection import SequentialFeatureSelector as SFS\n",
        "from mlxtend.feature_selection import ExhaustiveFeatureSelector as EFS\n",
        "from numpy.linalg import inv, eig\n",
        "from sklearn.base import BaseEstimator\n",
        "from sklearn.linear_model import LinearRegression, Ridge, Lasso, ElasticNet\n",
        "from sklearn.metrics import make_scorer\n",
        "from sklearn.preprocessing import StandardScaler\n",
        "try:\n",
        "    import statsmodels.api.add_constant\n",
        "except ImportError:\n",
        "    pass"
      ]
    },
    {
      "cell_type": "markdown",
      "source": [
        "Import Data."
      ],
      "metadata": {
        "id": "TTtrQKGTimUB"
      }
    },
    {
      "cell_type": "code",
      "source": [
        "path_data = '/content/data.csv' #edit path as necessary\n",
        "\n",
        "# Check if files exist before loading\n",
        "if os.path.exists(path_data):\n",
        "    data = pd.read_csv(path_data)\n",
        "    print(\"Data loaded successfully.\")\n",
        "else:\n",
        "    print(\"Error: One or both files not found. Check the file paths.\")\n",
        "\n",
        "y = data.loc[:,'ViolentCrimesPerPop']\n",
        "X = data.loc[:, data.columns != 'ViolentCrimesPerPop']"
      ],
      "metadata": {
        "id": "ThoH3IVMimG4"
      },
      "execution_count": null,
      "outputs": []
    },
    {
      "cell_type": "markdown",
      "source": [
        "# Train, Validation, Test"
      ],
      "metadata": {
        "id": "oACGedQSiKaI"
      }
    },
    {
      "cell_type": "code",
      "source": [],
      "metadata": {
        "id": "vt8GYiF4iX3C"
      },
      "execution_count": null,
      "outputs": []
    },
    {
      "cell_type": "markdown",
      "source": [
        "# Compare"
      ],
      "metadata": {
        "id": "1k8qlBmTiYIT"
      }
    },
    {
      "cell_type": "code",
      "source": [],
      "metadata": {
        "id": "Yz2EB1qqibLy"
      },
      "execution_count": null,
      "outputs": []
    },
    {
      "cell_type": "markdown",
      "source": [
        "# Conclusion"
      ],
      "metadata": {
        "id": "KTzIxZhiid8T"
      }
    },
    {
      "cell_type": "code",
      "source": [],
      "metadata": {
        "id": "rl2sd32Cifc2"
      },
      "execution_count": null,
      "outputs": []
    }
  ]
}